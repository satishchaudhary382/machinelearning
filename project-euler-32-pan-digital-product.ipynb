{
 "cells": [
  {
   "cell_type": "markdown",
   "id": "bb165007",
   "metadata": {
    "papermill": {
     "duration": 0.002359,
     "end_time": "2024-06-08T04:26:42.293042",
     "exception": false,
     "start_time": "2024-06-08T04:26:42.290683",
     "status": "completed"
    },
    "tags": []
   },
   "source": [
    "<p>We shall say that an $n$-digit number is pandigital if it makes use of all the digits $1$ to $n$ exactly once; for example, the $5$-digit number, $15234$, is $1$ through $5$ pandigital.</p>\n",
    "\n",
    "<p>The product $7254$ is unusual, as the identity, $39 \\times 186 = 7254$, containing multiplicand, multiplier, and product is $1$ through $9$ pandigital.</p>\n",
    "\n",
    "<p>Find the sum of all products whose multiplicand/multiplier/product identity can be written as a $1$ through $9$ pandigital.</p>\n",
    "\n",
    "<div class=\"note\">HINT: Some products can be obtained in more than one way so be sure to only include it once in your sum.</div>\n"
   ]
  },
  {
   "cell_type": "code",
   "execution_count": 1,
   "id": "820c3322",
   "metadata": {
    "execution": {
     "iopub.execute_input": "2024-06-08T04:26:42.299127Z",
     "iopub.status.busy": "2024-06-08T04:26:42.298626Z",
     "iopub.status.idle": "2024-06-08T04:26:42.450221Z",
     "shell.execute_reply": "2024-06-08T04:26:42.448950Z"
    },
    "papermill": {
     "duration": 0.158404,
     "end_time": "2024-06-08T04:26:42.453534",
     "exception": false,
     "start_time": "2024-06-08T04:26:42.295130",
     "status": "completed"
    },
    "tags": []
   },
   "outputs": [
    {
     "name": "stdout",
     "output_type": "stream",
     "text": [
      "4 1738 6952 417386952 {'3', '5', '1', '8', '9', '4', '7', '6', '2'}\n",
      "4 1963 7852 419637852 {'3', '5', '1', '9', '8', '4', '7', '6', '2'}\n",
      "12 483 5796 124835796 {'3', '5', '1', '8', '9', '4', '7', '6', '2'}\n",
      "18 297 5346 182975346 {'3', '5', '1', '8', '9', '4', '7', '6', '2'}\n",
      "27 198 5346 271985346 {'3', '5', '1', '9', '8', '4', '7', '6', '2'}\n",
      "28 157 4396 281574396 {'3', '5', '1', '8', '9', '4', '7', '6', '2'}\n",
      "39 186 7254 391867254 {'3', '5', '1', '9', '8', '4', '7', '6', '2'}\n",
      "42 138 5796 421385796 {'3', '5', '1', '8', '9', '4', '7', '6', '2'}\n",
      "48 159 7632 481597632 {'3', '5', '1', '8', '9', '4', '7', '6', '2'}\n",
      "138 42 5796 138425796 {'3', '5', '1', '8', '9', '4', '7', '6', '2'}\n",
      "157 28 4396 157284396 {'3', '5', '1', '8', '9', '4', '7', '6', '2'}\n",
      "159 48 7632 159487632 {'3', '5', '1', '9', '8', '4', '7', '6', '2'}\n",
      "186 39 7254 186397254 {'3', '5', '1', '8', '9', '4', '7', '6', '2'}\n",
      "198 27 5346 198275346 {'3', '5', '1', '9', '8', '4', '7', '6', '2'}\n",
      "297 18 5346 297185346 {'3', '5', '1', '9', '8', '4', '7', '6', '2'}\n",
      "483 12 5796 483125796 {'3', '5', '1', '8', '9', '4', '7', '6', '2'}\n",
      "1738 4 6952 173846952 {'3', '5', '1', '8', '9', '4', '7', '6', '2'}\n",
      "1963 4 7852 196347852 {'3', '5', '1', '9', '8', '4', '7', '6', '2'}\n",
      "[6952, 7852, 5796, 5346, 5346, 4396, 7254, 5796, 7632, 5796, 4396, 7632, 7254, 5346, 5346, 5796, 6952, 7852]\n",
      "The total sum of pan digital is 45228\n"
     ]
    }
   ],
   "source": [
    "def has_repeating_number(number):\n",
    "    num_str = str(number)\n",
    "    return len(num_str) != len(set(num_str))\n",
    "\n",
    "def is_pan_digit(multiplicand, multiplier, product):\n",
    "    combined = str(multiplicand) + str(multiplier) + str(product)\n",
    "    return len(combined) == 9 and set(combined) == set(\"123456789\")\n",
    "    \n",
    "pan_sum = []\n",
    "for i in range(4,5000):\n",
    "    if has_repeating_number(i):\n",
    "        continue\n",
    "    # print(i)\n",
    "    for j in range(1,100000):\n",
    "        if has_repeating_number(j):\n",
    "            continue\n",
    "        product = i * j \n",
    "        # if has_repeating_number(product):\n",
    "        #     continue\n",
    "        # if is_pan_digit(i,j,product):\n",
    "        pan_num = str(i) + str(j) + str(product)\n",
    "        if len(pan_num) > 9:\n",
    "            break\n",
    "        if has_repeating_number(int(pan_num))==False and is_pan_digit(i,j,product):\n",
    "            print(i,j,product, pan_num, set(pan_num))\n",
    "            pan_sum.append(product)\n",
    "print(pan_sum)        \n",
    "print(f\"The total sum of pan digital is {sum(set(pan_sum))}\")"
   ]
  },
  {
   "cell_type": "code",
   "execution_count": null,
   "id": "db3be8ac",
   "metadata": {
    "papermill": {
     "duration": 0.001744,
     "end_time": "2024-06-08T04:26:42.457699",
     "exception": false,
     "start_time": "2024-06-08T04:26:42.455955",
     "status": "completed"
    },
    "tags": []
   },
   "outputs": [],
   "source": []
  }
 ],
 "metadata": {
  "kaggle": {
   "accelerator": "none",
   "dataSources": [],
   "dockerImageVersionId": 30732,
   "isGpuEnabled": false,
   "isInternetEnabled": true,
   "language": "python",
   "sourceType": "notebook"
  },
  "kernelspec": {
   "display_name": "Python 3",
   "language": "python",
   "name": "python3"
  },
  "language_info": {
   "codemirror_mode": {
    "name": "ipython",
    "version": 3
   },
   "file_extension": ".py",
   "mimetype": "text/x-python",
   "name": "python",
   "nbconvert_exporter": "python",
   "pygments_lexer": "ipython3",
   "version": "3.10.13"
  },
  "papermill": {
   "default_parameters": {},
   "duration": 3.501667,
   "end_time": "2024-06-08T04:26:42.881333",
   "environment_variables": {},
   "exception": null,
   "input_path": "__notebook__.ipynb",
   "output_path": "__notebook__.ipynb",
   "parameters": {},
   "start_time": "2024-06-08T04:26:39.379666",
   "version": "2.5.0"
  }
 },
 "nbformat": 4,
 "nbformat_minor": 5
}
